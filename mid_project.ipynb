{
 "cells": [
  {
   "cell_type": "code",
   "execution_count": 2,
   "id": "ccd097f1-c6cf-4ba2-808b-32e3afbb9119",
   "metadata": {},
   "outputs": [],
   "source": [
    "import numpy as np\n",
    "import matplotlib.pyplot as plt\n",
    "import os\n",
    "import pickle"
   ]
  },
  {
   "cell_type": "code",
   "execution_count": 3,
   "id": "27bd4e7f-7358-4b0e-8bf7-545c9386d636",
   "metadata": {},
   "outputs": [],
   "source": [
    "def load_CIFAR10(path):\n",
    "    \n",
    "    train = []\n",
    "    train_label = []\n",
    "    test = []\n",
    "    test_label = []\n",
    "    \n",
    "    print(\"location of training files : \")\n",
    "    file = 'data_batch_'\n",
    "    for i in range(5):                                  #reading all training data\n",
    "        temp = path + '/' + file + str(i+1)\n",
    "        with open(temp, 'rb') as fo:\n",
    "            dict = pickle.load(fo, encoding='bytes')\n",
    "            train.append(dict[b'data'])\n",
    "            train_label.append(dict[b'labels'])\n",
    "            print(str(i+1),\"  ->  \",temp)\n",
    "    \n",
    "    with open(path + '/' + \"test_batch\", 'rb') as fo:  #reading test data\n",
    "        dict = pickle.load(fo, encoding='bytes')\n",
    "        test.append(dict[b'data'])\n",
    "        test_label.append(dict[b'labels'])\n",
    "        print(\"\\n\\ntest file  ->  \",path + '/' + \"test_batch\")\n",
    "     \n",
    "    train_data = np.array(train)                              #converted list to numpy array\n",
    "    train_label = np.array(train_label)\n",
    "    test_data = np.array(test)\n",
    "    test_label = np.array(test_label)\n",
    "    \n",
    "    dictData = {}                                       #final token having train and test data of shape(x,3072)\n",
    "    \n",
    "    dictData['train_data'] = np.reshape(train_data, newshape = (train_data.shape[0]*train_data.shape[1],train_data.shape[2]))\n",
    "    dictData['train_label'] = np.reshape(train_label, newshape = (train_label.shape[0]*train_label.shape[1]))\n",
    "    dictData['test_data'] = np.reshape(test_data, newshape = (test_data.shape[0]*test_data.shape[1],test_data.shape[2]))\n",
    "    dictData['test_label'] = np.reshape(test_label, newshape = (test_label.shape[0]*test_label.shape[1]))\n",
    "    return dictData"
   ]
  },
  {
   "cell_type": "code",
   "execution_count": 7,
   "id": "814c2a34-fdd1-4b69-8281-c5c6260a701f",
   "metadata": {},
   "outputs": [],
   "source": [
    "def unpickle(file):\n",
    "    import pickle\n",
    "    with open(file, 'rb') as fo:\n",
    "        dict = pickle.load(fo, encoding='bytes')\n",
    "    return dict\n"
   ]
  },
  {
   "cell_type": "code",
   "execution_count": 18,
   "id": "07fdd050-9463-449f-b72c-21a9836fdb93",
   "metadata": {},
   "outputs": [
    {
     "name": "stdout",
     "output_type": "stream",
     "text": [
      "location of training files : \n",
      "1   ->   C:\\Users\\ahmed\\Desktop\\CVPR\\cifar-10-python\\cifar-10-batches-py/data_batch_1\n",
      "2   ->   C:\\Users\\ahmed\\Desktop\\CVPR\\cifar-10-python\\cifar-10-batches-py/data_batch_2\n",
      "3   ->   C:\\Users\\ahmed\\Desktop\\CVPR\\cifar-10-python\\cifar-10-batches-py/data_batch_3\n",
      "4   ->   C:\\Users\\ahmed\\Desktop\\CVPR\\cifar-10-python\\cifar-10-batches-py/data_batch_4\n",
      "5   ->   C:\\Users\\ahmed\\Desktop\\CVPR\\cifar-10-python\\cifar-10-batches-py/data_batch_5\n",
      "\n",
      "\n",
      "test file  ->   C:\\Users\\ahmed\\Desktop\\CVPR\\cifar-10-python\\cifar-10-batches-py/test_batch\n"
     ]
    }
   ],
   "source": [
    "#loading the dataset\n",
    "dataset = load_CIFAR10(path = 'C:\\\\Users\\\\ahmed\\\\Desktop\\\\CVPR\\\\cifar-10-python\\\\cifar-10-batches-py')"
   ]
  },
  {
   "cell_type": "code",
   "execution_count": 19,
   "id": "9f67a70e-5d65-4b5c-899f-f8c50ab974f5",
   "metadata": {},
   "outputs": [
    {
     "data": {
      "text/plain": [
       "(50000, 3072)"
      ]
     },
     "execution_count": 19,
     "metadata": {},
     "output_type": "execute_result"
    }
   ],
   "source": [
    "dataset['train_data'].shape #cheking shapes of all the entries in the dictionary"
   ]
  },
  {
   "cell_type": "code",
   "execution_count": 20,
   "id": "5e9b1cf3-fafa-4af8-a496-4976170c8e81",
   "metadata": {},
   "outputs": [
    {
     "data": {
      "text/plain": [
       "(50000,)"
      ]
     },
     "execution_count": 20,
     "metadata": {},
     "output_type": "execute_result"
    }
   ],
   "source": [
    "dataset['train_label'].shape"
   ]
  },
  {
   "cell_type": "code",
   "execution_count": 21,
   "id": "e6e37f0b-e9ce-481e-9573-54077e1c5b40",
   "metadata": {},
   "outputs": [
    {
     "data": {
      "text/plain": [
       "(10000, 3072)"
      ]
     },
     "execution_count": 21,
     "metadata": {},
     "output_type": "execute_result"
    }
   ],
   "source": [
    "dataset['test_data'].shape"
   ]
  },
  {
   "cell_type": "code",
   "execution_count": 22,
   "id": "254e4f2c-563c-46b3-b11c-ddf796a3eb9f",
   "metadata": {},
   "outputs": [
    {
     "data": {
      "text/plain": [
       "(10000,)"
      ]
     },
     "execution_count": 22,
     "metadata": {},
     "output_type": "execute_result"
    }
   ],
   "source": [
    "dataset['test_label'].shape\n"
   ]
  },
  {
   "cell_type": "code",
   "execution_count": 23,
   "id": "31c227c8-0185-4975-a55b-09e3d7d0df68",
   "metadata": {},
   "outputs": [
    {
     "data": {
      "image/png": "[encoded data removed]",
      "text/plain": [
       "<Figure size 432x288 with 1 Axes>"
      ]
     },
     "metadata": {
      "needs_background": "light"
     },
     "output_type": "display_data"
    }
   ],
   "source": [
    "#cheking of any random data images from training data\n",
    "temp_ran = dataset['train_data'][118]\n",
    "\n",
    "r = temp_ran[0:1024].reshape(32,32)\n",
    "g = temp_ran[1024:2048].reshape(32,32)\n",
    "b = temp_ran[2048:3072].reshape(32,32)\n",
    "\n",
    "final_image = np.dstack((r,g,b))        #Stacking all the three channels which are R,G and B\n",
    "plt.imshow(final_image)\n",
    "plt.show()"
   ]
  },
  {
   "cell_type": "code",
   "execution_count": 24,
   "id": "8884fb0d-52ac-4da1-9add-2c69cac0a584",
   "metadata": {},
   "outputs": [],
   "source": [
    "x_train = dataset['train_data']\n",
    "y_train = dataset['train_label']\n",
    "x_test = dataset['test_data']\n",
    "y_test = dataset['test_label']\n"
   ]
  },
  {
   "cell_type": "code",
   "execution_count": 25,
   "id": "d366f387-8c44-40ea-bbeb-a54f978b330c",
   "metadata": {},
   "outputs": [
    {
     "name": "stdout",
     "output_type": "stream",
     "text": [
      "\n",
      "Size of test set       :  49000\n",
      "Size of validation set :  1000\n"
     ]
    }
   ],
   "source": [
    "#creating one set of data for validation\n",
    "\n",
    "train_x , train_y = x_train[0:49000] , y_train[0:49000]\n",
    "\n",
    "val_x , val_y = x_train[49000:] , y_train[49000:]        #for validation\n",
    "\n",
    "print(\"\\nSize of test set       : \",train_x.shape[0])\n",
    "print(\"Size of validation set : \",val_x.shape[0])"
   ]
  },
  {
   "cell_type": "code",
   "execution_count": 26,
   "id": "eddfdc73-a4fd-4751-ba28-e0dcd304b783",
   "metadata": {},
   "outputs": [],
   "source": [
    "#main classifier ------> knn\n",
    "\n",
    "class KNearestNeighbor(object):\n",
    "    \n",
    "    def __init__(self):                #for people using other languages can relate it with constructor\n",
    "        pass\n",
    "    \n",
    "    def train(self,Xtr,Ytr):           #assigned numpy array to instance of the class\n",
    "        self.Xtr = Xtr\n",
    "        self.Ytr = Ytr\n",
    "    \n",
    "    def predictL1(self,X,k):             #function to predict the class of all the numpy array image passed with value of k\n",
    "                                       #X = testing array , K = hyper-parameter \n",
    "        total_samples = X.shape[0]     #total number of images we need to classify\n",
    "        \n",
    "        y_pred = np.zeros(total_samples, dtype = self.Ytr.dtype)   #initializing the array which will store final results\n",
    "        \n",
    "        for i in range(total_samples):\n",
    "            \n",
    "            label_count = np.zeros(10, dtype = self.Ytr.dtype)     #array with size 10. The value will highest count in \n",
    "                                                                   # the end will decide that in which class image belongs to \n",
    "            \n",
    "            dist = np.sum(np.abs(X[i,:] - self.Xtr), axis = 1)     #array of distances with all data in training set\n",
    "                                                                   # here we have stored Manhattan distance which is\n",
    "                                                                   # taking the absolute difference horizontly across columns\n",
    "            \n",
    "            idx = np.argpartition(dist,k)                      #It will perform partial sorting \n",
    "                                                               #It means it will store k smallest elements in the \n",
    "                                                               # starting k indices\n",
    "            \n",
    "            min_ind = idx[:k]                                  #stored the first k elements\n",
    "            \n",
    "            for x in min_ind:                                  #running the loop k times\n",
    "                label_count[int(self.Ytr[x])] += 1             #increases the count of the repeating label\n",
    "            y_pred[i] = np.argmax(label_count)                 #image is finally classified into the class with maximum count\n",
    "        \n",
    "        return y_pred"
   ]
  },
  {
   "cell_type": "code",
   "execution_count": 27,
   "id": "a25f566d-21d2-401b-97de-7b99d892d41c",
   "metadata": {},
   "outputs": [],
   "source": [
    "#creating instance of the class and assigning the data to the instance\n",
    "knn = KNearestNeighbor()\n",
    "knn.train(train_x,train_y)"
   ]
  },
  {
   "cell_type": "code",
   "execution_count": null,
   "id": "5aa44aaf-5630-4f6a-8dcb-bb34a6220acf",
   "metadata": {},
   "outputs": [],
   "source": []
  }
 ],
 "metadata": {
  "kernelspec": {
   "display_name": "Python 3 (ipykernel)",
   "language": "python",
   "name": "python3"
  },
  "language_info": {
   "codemirror_mode": {
    "name": "ipython",
    "version": 3
   },
   "file_extension": ".py",
   "mimetype": "text/x-python",
   "name": "python",
   "nbconvert_exporter": "python",
   "pygments_lexer": "ipython3",
   "version": "3.9.7"
  }
 },
 "nbformat": 4,
 "nbformat_minor": 5
}
